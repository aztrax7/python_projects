{
  "nbformat": 4,
  "nbformat_minor": 0,
  "metadata": {
    "colab": {
      "provenance": [],
      "authorship_tag": "ABX9TyNwg1h8CmWaWeZK2bdr2ddy"
    },
    "kernelspec": {
      "name": "python3",
      "display_name": "Python 3"
    },
    "language_info": {
      "name": "python"
    }
  },
  "cells": [
    {
      "cell_type": "code",
      "execution_count": null,
      "metadata": {
        "id": "tkS5FGo8L1jP"
      },
      "outputs": [],
      "source": [
        "import random\n",
        "\n",
        "print(\"RANDOM NUMBER GENERATOR FROM 1 TO 10\")\n",
        "\n",
        "print(random.randint(1,10))"
      ]
    },
    {
      "cell_type": "code",
      "source": [
        "import random\n",
        "\n",
        "candy = random.randint(40,60)\n",
        "\n",
        "name = input(\"Hi! What's your name?\")\n",
        "print(\"Hi\",name,\"! Nice to meet you! Let's play a game where you need to guess the number of candies in the jar we have right here.\")\n",
        "print(\"The number of candies in the jar is between 40 and 60\")\n",
        "print(\"You only have 5 guesses. Good luck!\")\n",
        "\n",
        "for i in range(5):\n",
        "  guess = int(input(\"Enter a guess\"))\n",
        "  if guess == candy:\n",
        "    print(\"Correct answer! You won the candy jar!\")\n",
        "    break\n",
        "  elif guess < candy:\n",
        "    print(\"A little higher\")\n",
        "  elif guess > candy:\n",
        "    print(\"A little lesser\")\n",
        "\n",
        "if guess != candy:\n",
        "  print(\"Sorry! You have run out of guesses. Good try! Was fun playing! Come again\",name,\"!\")\n"
      ],
      "metadata": {
        "id": "cs8uRcCBM2Pl"
      },
      "execution_count": null,
      "outputs": []
    },
    {
      "cell_type": "code",
      "source": [
        "import random\n",
        "\n",
        "print(\"Welcome to Dyso, a game of chance! The 4 players are Green, Red, White and Blue. Each will roll a dice and whoever rolls a '6' first will win the game!!!\")\n",
        "\n",
        "while True:\n",
        "  Green = random.randint(1,6)\n",
        "  print(\"Green throws...\")\n",
        "  print(\"And gets:\", Green)\n",
        "  if Green == 6:\n",
        "    print(\"Green has won the game!\")\n",
        "    break\n",
        "\n",
        "  Red = random.randint(1,6)\n",
        "  print(\"Red throws...\")\n",
        "  print(\"And gets:\", Red)\n",
        "  if Red == 6:\n",
        "    print(\"Red has won the game!\")\n",
        "    break\n",
        "\n",
        "  White = random.randint(1,6)\n",
        "  print(\"White throws...\")\n",
        "  print(\"And gets:\", White)\n",
        "  if White == 6:\n",
        "    print(\"White has won the game!\")\n",
        "    break\n",
        "\n",
        "  Blue = random.randint(1,6)\n",
        "  print(\"Blue throws...\")\n",
        "  print(\"And gets:\", Blue)\n",
        "  if Blue == 6:\n",
        "    print(\"Blue has won the game!\")\n",
        "    break"
      ],
      "metadata": {
        "id": "_vmn8fD_Syfk"
      },
      "execution_count": null,
      "outputs": []
    },
    {
      "cell_type": "code",
      "source": [
        "hobbies = {\"Harry\":\"Quidditch\", \"Hermione\":\"Reading\", \"Ron\":\"Chess\", \"Neville\":\"Gardening\"}\n",
        "###########################################################################################\n",
        "print(hobbies)\n",
        "print(\"Hermione's hobby is\", hobbies[\"Hermione\"])\n",
        "\n",
        "print(\"Adding Dobby and their hobby\")\n",
        "hobbies[\"Dobby\"] = \"Wearing socks\"\n",
        "print(hobbies)\n",
        "\n",
        "print(\"Deleting Ron...\")\n",
        "del hobbies[\"Ron\"]\n",
        "print(hobbies)\n",
        "\n",
        "print(hobbies.values())\n",
        "print(hobbies.keys())\n",
        "\n",
        "print(\"Checking if Dumbledore is there...\")\n",
        "if \"Dumbledore\" in hobbies:\n",
        "  print(\"Dumbledore is there!\")\n",
        "else:\n",
        "  print(\"Dumbledore is not there.\")"
      ],
      "metadata": {
        "id": "McHIwe0zWZnQ"
      },
      "execution_count": null,
      "outputs": []
    }
  ]
}
