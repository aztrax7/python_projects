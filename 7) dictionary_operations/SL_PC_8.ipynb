{
  "nbformat": 4,
  "nbformat_minor": 0,
  "metadata": {
    "colab": {
      "provenance": [],
      "authorship_tag": "ABX9TyP3lZRcdZgBkopi5MUqkJq1"
    },
    "kernelspec": {
      "name": "python3",
      "display_name": "Python 3"
    },
    "language_info": {
      "name": "python"
    }
  },
  "cells": [
    {
      "cell_type": "code",
      "execution_count": null,
      "metadata": {
        "id": "PMpKW7Aoy_ce"
      },
      "outputs": [],
      "source": [
        "hobbies = {\"Harry\":\"Quidditch\", \"Hermione\":\"Reading\", \"Ron\":\"Chess\", \"Neville\":\"Gardening\"}\n",
        "###########################################################################################\n",
        "print(hobbies)                                              #Printing the dictionary\n",
        "print(\"Hermione's hobby is\", hobbies[\"Hermione\"])           #Fetching value of a key in dictionary\n",
        "\n",
        "print(\"Adding Dobby and their hobby\")\n",
        "hobbies[\"Dobby\"] = \"Wearing socks\"                          #Adding a new key-value pair in a dictionary\n",
        "print(hobbies)\n",
        "\n",
        "print(\"Deleting Ron...\")\n",
        "del hobbies[\"Ron\"]                                          #Deleting a key-value pair from a dictionary\n",
        "print(hobbies)\n",
        "\n",
        "print(hobbies.values())                                     #Printing all values in a dictionary\n",
        "print(hobbies.keys())                                       #Printing all keys in a dictionary\n",
        "\n",
        "print(\"Checking if Dumbledore is there...\")\n",
        "if \"Dumbledore\" in hobbies:                                 #using in function to check if a key is in dictionary (can also check value)\n",
        "  print(\"Dumbledore is there!\")\n",
        "else:\n",
        "  print(\"Dumbledore is not there.\")"
      ]
    }
  ]
}
