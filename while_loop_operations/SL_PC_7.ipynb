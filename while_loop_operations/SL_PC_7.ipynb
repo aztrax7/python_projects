{
  "nbformat": 4,
  "nbformat_minor": 0,
  "metadata": {
    "colab": {
      "provenance": [],
      "authorship_tag": "ABX9TyNLvNGzA9lIi55zQg4+i88S"
    },
    "kernelspec": {
      "name": "python3",
      "display_name": "Python 3"
    },
    "language_info": {
      "name": "python"
    }
  },
  "cells": [
    {
      "cell_type": "code",
      "execution_count": null,
      "metadata": {
        "id": "4JT3guaC1fzi"
      },
      "outputs": [],
      "source": [
        "x = 50\n",
        "while x > 5 :\n",
        "  print(\"Are we there yet?\")\n",
        "  x -= 5\n",
        "  print(\"No, we are not! Only\",x,\"more miles to go!\")\n",
        "print(\"Finally, we are here!\")"
      ]
    },
    {
      "cell_type": "code",
      "source": [
        "print(\"ELECTION FOR PRESIDENT OF CODELAND 2025\")\n",
        "\n",
        "vote = input(\"Please your vote for either Mr. Grump or Mr. Tiden (G/T/q to quit): \")\n",
        "Grump = 0\n",
        "Tiden = 0\n",
        "\n",
        "while vote != \"q\":\n",
        "  if vote == \"G\":\n",
        "    Grump += 1\n",
        "  elif vote == \"T\":\n",
        "    Tiden += 1\n",
        "  vote = input(\"Please your vote for either Mr. Grump or Mr. Tiden (G/T/q to quit): \")\n",
        "\n",
        "print(\"The total votes obtained by Mr. Grump is\", Grump)\n",
        "print(\"The total votes obtained by Mr. Tiden is\", Tiden)\n",
        "\n",
        "print(\"******************************************************\")\n",
        "\n",
        "if Grump == Tiden:\n",
        "  print(\"Unfortunately, none of the candidates have won. The elections have resulted in a tie between both candidates\")\n",
        "  print(\"******************************************************\")\n",
        "  print(\"Mr. Grump: NOOOOOOOOOOO!\",\"\\n\")\n",
        "  print(\"Mr. Tiden: I WAS SO CLOSE!\")\n",
        "elif Grump > Tiden:\n",
        "  print(\"The results are clear. MR. GRUMP HAS WON THE ELECTION FOR PRESIDENT, LEADING BY\", (Grump - Tiden), \"VOTE(S)!!!\")\n",
        "  print(\"******************************************************\")\n",
        "  print(\"Mr. Grump: LET'S GOO! I WON!!!!\",\"\\n\")\n",
        "  print(\"Mr.Tiden: ...\")\n",
        "elif Tiden > Grump:\n",
        "  print(\"The results are clear. MR. TIDEN HAS WON THE ELECTION FOR PRESIDENT, LEADING BY\", (Tiden - Grump), \"VOTE(S)!!!\")\n",
        "  print(\"******************************************************\")\n",
        "  print(\"Mr. Tiden: LET'S GOO! I WON!!!!\",\"\\n\")\n",
        "  print(\"Mr. Grump: ...\")"
      ],
      "metadata": {
        "id": "PvGCr4GH3Xze"
      },
      "execution_count": null,
      "outputs": []
    },
    {
      "cell_type": "code",
      "source": [
        "Reply = \"y\"\n",
        "\n",
        "while Reply == \"y\":\n",
        "  Distance = int(input(\"Please enter the distance travelled (in miles): \"))\n",
        "  if Distance < 0:\n",
        "    print(\"Distance travelled cannot be negative. Please re-enter a correct distance.\")\n",
        "    continue\n",
        "  Time = int(input(\"Please enter the time taken (in hours): \"))\n",
        "  Speed = Distance/Time\n",
        "  print(\"Your speed is\",Speed,\"mph.\")\n",
        "  Reply = input(\"Do you wish to continue (y/n): \")\n",
        "print(\"#END#\")"
      ],
      "metadata": {
        "id": "gWBharef4Ab1"
      },
      "execution_count": null,
      "outputs": []
    },
    {
      "cell_type": "code",
      "source": [
        "print(\"Hailstone Sequence Generator\")\n",
        "\n",
        "n = int(input(\"Please enter any positive integer from 1-10000: \"))\n",
        "\n",
        "while n > 0:\n",
        "  if n % 2 == 0:\n",
        "    n = n/2\n",
        "    print(n)\n",
        "    if n == 1:\n",
        "      break\n",
        "  elif n % 2 == 1:\n",
        "    n = (n*3)+1\n",
        "    print(n)\n",
        "    if n == 1:\n",
        "      break"
      ],
      "metadata": {
        "id": "wLCo0htLAJ6p"
      },
      "execution_count": null,
      "outputs": []
    }
  ]
}
